{
 "cells": [
  {
   "cell_type": "code",
   "execution_count": 1,
   "id": "a01bf5f2",
   "metadata": {},
   "outputs": [],
   "source": [
    "import pandas as pd\n",
    "import numpy as np\n",
    "import spacy\n",
    "import scattertext as st"
   ]
  },
  {
   "cell_type": "code",
   "execution_count": 2,
   "id": "f55dbce8",
   "metadata": {},
   "outputs": [],
   "source": [
    "# load in the coffee data\n",
    "df = pd.read_csv('coffeedata_v2.csv')"
   ]
  },
  {
   "cell_type": "code",
   "execution_count": 3,
   "id": "5ef5149b",
   "metadata": {},
   "outputs": [],
   "source": [
    "# create spacy model\n",
    "nlp = spacy.load('en_core_web_sm')"
   ]
  },
  {
   "cell_type": "code",
   "execution_count": 4,
   "id": "184c132f",
   "metadata": {},
   "outputs": [],
   "source": [
    "df['type'] = ''"
   ]
  },
  {
   "cell_type": "code",
   "execution_count": 5,
   "id": "913b3e9e",
   "metadata": {},
   "outputs": [],
   "source": [
    "df['type'] = np.where(df.roast_level == 'Light', 'Light',\n",
    "                      np.where(df.roast_level == 'Very Dark', 'Dark', \n",
    "                              np.where(df.roast_level == 'Dark', 'Dark','')))"
   ]
  },
  {
   "cell_type": "code",
   "execution_count": 6,
   "id": "1054099d",
   "metadata": {},
   "outputs": [
    {
     "data": {
      "text/plain": [
       "         3582\n",
       "Light     471\n",
       "Dark      167\n",
       "Name: type, dtype: int64"
      ]
     },
     "execution_count": 6,
     "metadata": {},
     "output_type": "execute_result"
    }
   ],
   "source": [
    "df.type.value_counts()"
   ]
  },
  {
   "cell_type": "code",
   "execution_count": 7,
   "id": "e5e13e41",
   "metadata": {},
   "outputs": [],
   "source": [
    "df['full_review'] = df.blind_assessment + ' ' + df.notes + ' ' + df.bottom_line"
   ]
  },
  {
   "cell_type": "code",
   "execution_count": 8,
   "id": "3791a2d6",
   "metadata": {},
   "outputs": [
    {
     "data": {
      "text/plain": [
       "Blind Assessment: Deeply sweet, chocolaty and nut-toned. Baking chocolate, almond brittle, gardenia, date, gently scorched oak in aroma and cup. Sweet-toned structure with gentle, round acidity; smooth, velvety mouthfeel. Chocolaty, nut-driven finish with undertones of gardenia and date. Notes: A blend of three different washed-process coffees from Peru. Nostalgia Coffee Roasters was founded by Taylor Fields in 2018 as a mobile café; it has since added specialty roasting and online sales of select fine coffees. Visit www.nostalgiacoffeeroasters.com for more information. The Bottom Line: A gently roast-rounded cup, richly sweet and deep-toned, carried by crisp chocolate and caramelized nut notes.                                                                                                                                                                                                                                                                                                                                                                                                                                                                                                                                                                               1\n",
       "Blind Assessment: Rich, deep, exotically pungent. Spicy, tea-rose-like flowers, roasted cacao nib, vanilla, tamarind, myrrh in aroma and cup. Round, quietly resonant acidity; lightly syrupy mouthfeel. The cacao-nib in particular carries into a sweet, richly drying finish. Notes: Produced entirely from trees of the Catuai variety of Arabica and processed by the pulped natural method, in which the skin is removed from the coffee fruit immediately after picking, but the seeds or beans are dried with the sweet pulp, or fruit flesh, still adhering to them. The Pedra Redonda farm is run by farmer José Santana with his two brothers, and selectively hand-harvests its coffee, an unusual practice in Brazil. Roast Co. is a small-batch roasting company based in Oakland, California founded by Alex Roberts and Andrew Green with the vision of roasting high-quality coffees sourced through conscious connections.  Visit www.roastco.com or call 510-658-2799 for more information. Who Should Drink It: Those who enjoy spicy flowers and near-incense-like pungency, softened by a more familiar chocolaty cacao-nib note.                                                                                                                                                        1\n",
       "Blind Assessment: Sweet, rich, slightly fermenty. Blueberry, chocolate, fresh-cut cedar, sweet narcissus-like flowers in aroma and cup. Round, gently rich acidity; syrupy mouthfeel. Flavor carries persuasively into a sweet-toned though slightly dry finish. Notes: The term natural means this coffee was dried inside the entire fruit rather than after the fruit was removed. Most Brazil coffee is dried inside the fruit, but this natural Brazil shows a particularly ripe fruit character that is not generally typical for the Brazil versions of the type. Papa Lin's Coffee Roasting is a small, “nano” roaster located in Yorktown Heights, New York, focusing on carefully sourced, extremely high quality specialty coffees, which are custom roasted to the preference of every customer.  Visit www.papalins.com for more information. Who Should Drink It: Definitely not purists; rather those who enjoy the lush, edgily overripe fruit and floral sweetness of an old-fashioned dried-in-the-fruit coffee.                                                                                                                                                                                                                                                                             1\n",
       "Blind Assessment: Delicate, soft, lively. Distinct honeysuckle-like flowers, apple, caramel, walnut, a hint of roasted cacao nib in aroma and cup. Gently crisp acidity; lightly plush mouthfeel. Sweet-toned, quietly flavor-saturated finish. Notes: Processed by the pulped natural method, in which the skin is removed from the coffee fruit immediately after picking, but the seeds or beans are dried with the sweet pulp, or fruit flesh, still adhering to them. João “Ziñho” Souza and his family produced this micro-lot from trees of the Yellow Catuai variety of Arabica at their farm Fazenda Esperança. Ritual is a frequently celebrated (NY Times, etc.), obsessively quality-oriented roastery based in San Francisco, California. Visit www.ritualroasters.com or call 415-641-1024 for more information. Who Should Drink It: Those who value delicacy without loss of complexity.                                                                                                                                                                                                                                                                                                                                                                                                       1\n",
       "Blind Assessment: Shifting, layered complexity. Roasted hazelnut, roasted cacao nib, vanilla, hints of Scotch whisky (the smoother Highland style), plumeria-like flowers, orangy citrus carry from aroma through finish. Round, soft acidity; full, syrupy mouthfeel.  Notes: This coffee is a fully washed or wet-processed coffee. A special strain of yeast developed by the Belgian laboratory Leuven for wine-making was added to the vat during the fermentation step used to loosen the fruit pulp before it is washed off the beans. Chromatic prides itself in doing everything in-house and meticulously, from printing its attractive bags to modifying equipment to sourcing and roasting its exceptionally fine coffees. Visit www.chromaticcoffee.com for more information. Who Should Drink It: The soft acidity of a classic Brazil combined with authority in structure and engaging aroma and flavor. When it is next available, aficionados will definitely want to sample this coffee to tease out the sensory impact of adding wine yeast to the vat during the fermentation step, as well as to experience what in our records is the lightest roasted coffee ever tested at Coffee Review, certainly the only one close to this light to score so well.                                1\n",
       "                                                                                                                                                                                                                                                                                                                                                                                                                                                                                                                                                                                                                                                                                                                                                                                                                                                                                                                                                                                                                                                                                                                                                                                                                                                                                                              ..\n",
       "Blind Assessment: Wildly, disconcertingly original. Sweetly tart, simultaneously fruit- and earth-toned, bright yet lush. Fresh clover, earth, fresh-pressed red grape juice, dark chocolate, white peppercorn in aroma and cup. Juicy sweet yet zesty and savory in structure. Full, syrupy mouthfeel. The finish is resonant and intensely flavor-saturated.  Notes: Produced from trees of the rare Ethiopia-derived botanical variety Gesha. With its generally elongated beans and distinctive floral and crisp, often chocolaty cup, the Gesha variety continues to distinguish itself as one of the world’s most unique coffees. This is a particularly refined dried-in-the-fruit or natural presentation of the Gesha variety developed by boutique exporter/importer Ninety Plus Coffee. Dragonfly Coffee is a Boulder, Colorado-based micro-roaster that produces high-quality coffees and supports worthy causes. Visit www.dragonflycoffeeroasters.com or call 303-579-2154 for more information. The Bottom Line: For well-heeled coffee adventurers, a coffee so original it is difficult to categorize. It provokes a tremendous range of sensory association that situates it on the frontier of coffee expression, hovering somewhere between disturbing and extraordinary.                  1\n",
       "Blind Assessment: Deeply rich, sweetly roast-toned. Dark chocolate, raisin, molasses, cedar, a hint of cinnamon in aroma and cup. Sweet in structure with gentle, rounded acidity. The finish is chocolate through and through, with raisin in the short and aromatic wood notes resurfacing in the long. Notes: This coffee tied for the third-highest rating in a cupping of coffees roasted by women for Coffee Review‘s April 2018 tasting report. Produced from trees of the Caturra, Catuai and CR 95 varieties of Arabica in partnership with Cafe Monteverde in order to benefit conservation, education, and social programs in and around the Monteverde Cloud Forest of Costa Rica. Since 1981 Montana Coffee Traders has been roasting fine coffees in an old farmhouse at 3,000 feet above sea level. Visit www.coffeetraders.com or call 406-862-7633 for more information. The Bottom Line: A rich, chocolate- and raisin-toned Costa Rica cup, ideal for those who prefer a medium-dark roast.                                                                                                                                                                                                                                                                                                 1\n",
       "Blind Assessment: Crisply sweet, fruit-toned. Blackberry, baker’s chocolate, freesia, hazelnut, cedar in aroma and cup. Sweet-tart structure with bright acidity; velvety-textured, crisp mouthfeel. The cocoa-toned finish has a berry throughline, enveloped by spicy floral notes. Notes: This coffee tied for the third-highest rating in a cupping of coffees roasted by women for Coffee Review‘s April 2018 tasting report. Southern Ethiopia coffees like this one are produced from distinctive traditional Ethiopian varieties of Arabica long grown in the region. This is a dry-processed or “natural” coffee, meaning the beans were dried inside the fruit rather than after the fruit has been removed, as is the case with wet-processed or “washed” coffees. Founded in 2014 by Ingin Kim, an investor in the boutique coffee producer Ninety Plus, Peri Coffee is a nano-roaster based in Altadena, California. Visit www.pericoffee.com for more information. The Bottom Line: A classic natural-processed Ethiopia cup with clean berry notes, chocolate suggestions, and hints of sweetly spicy florals.                                                                                                                                                                                  1\n",
       "Blind Assessment: High-toned, richly sweet-savory. Mango, honey, lemongrass, oak, narcissus in aroma and cup. Balanced, sweetly savory structure with lively acidity; crisp though velvety mouthfeel. The sweetly herb-toned finish is redolent of lemongrass, supported by mango, honey and a hint of oak. Notes: This coffee tied for the third-highest rating in a cupping of coffees roasted by women for Coffee Review‘s April 2018 tasting report. Produced by the METAD farm and mill in southern Ethiopia. Southern Ethiopia produces distinctive coffees from traditional varieties of Arabica long grown in the region. Coffees like this one processed by the wet or washed method (fruit skin and pulp is removed before drying) typically express great aromatic complexity and intensity with a particular emphasis on citrus and floral notes. Certifed USDA organic. Tico Coffee’s co-founder Mariana Faerron is from Costa Rica, and the word “Tico” refers to a Costa Rica native. The company she created with her husband Thomas specializes in direct trade coffees from small farms all over the world. Visit www.ticoroasters.com for more information. The Bottom Line: A crisp, high-toned Ethiopia coffee with rich fruit and sweet herb notes, next to deep evocations of honey.    1\n",
       "Blind Assessment: Simple but centered, a classically solid Espresso. Once past the low-key, caramel/toast/chocolate nose I didn't register much in the way of grace notes, but neither was I oppressed by carbon. My taster colleague picked up muted wine-fruit tones. In milk, sweet and substantial. Notes: A darker blend for milk-based drinks, simple but centered, a classically solid espresso. A darker Batdorf & Bronson blend particularly designed for milk-based drinks. Who Should Drink It: People who like wide-wale corduroy and Oxford cloth shirts. A solid, elegantly sober profile.                                                                                                                                                                                                                                                                                                                                                                                                                                                                                                                                                                                                                                                                                                       1\n",
       "Name: full_review, Length: 4220, dtype: int64"
      ]
     },
     "execution_count": 8,
     "metadata": {},
     "output_type": "execute_result"
    }
   ],
   "source": [
    "df.full_review.value_counts()"
   ]
  },
  {
   "cell_type": "code",
   "execution_count": 9,
   "id": "9030b551",
   "metadata": {},
   "outputs": [],
   "source": [
    "df = df.loc[df['type'] != '']"
   ]
  },
  {
   "cell_type": "code",
   "execution_count": 10,
   "id": "fe6f3bae",
   "metadata": {},
   "outputs": [],
   "source": [
    "corpus = st.CorpusFromPandas(df,\n",
    "                            category_col='type',\n",
    "                            text_col='full_review',\n",
    "                            nlp=nlp).build()"
   ]
  },
  {
   "cell_type": "code",
   "execution_count": 11,
   "id": "e36aaa0d",
   "metadata": {},
   "outputs": [
    {
     "data": {
      "text/plain": [
       "1614958"
      ]
     },
     "execution_count": 11,
     "metadata": {},
     "output_type": "execute_result"
    }
   ],
   "source": [
    "html = st.produce_scattertext_explorer(corpus,\n",
    "                                      category='Light',\n",
    "                                      category_name='Light',\n",
    "                                      not_category_name='Dark',\n",
    "                                      width_in_pixels=1000,\n",
    "                                      metadata=df['coffee_name'])\n",
    "open('Coffee-Visualisation.html', 'wb').write(html.encode('utf-8'))"
   ]
  }
 ],
 "metadata": {
  "kernelspec": {
   "display_name": "Python 3 (ipykernel)",
   "language": "python",
   "name": "python3"
  },
  "language_info": {
   "codemirror_mode": {
    "name": "ipython",
    "version": 3
   },
   "file_extension": ".py",
   "mimetype": "text/x-python",
   "name": "python",
   "nbconvert_exporter": "python",
   "pygments_lexer": "ipython3",
   "version": "3.8.6"
  }
 },
 "nbformat": 4,
 "nbformat_minor": 5
}
